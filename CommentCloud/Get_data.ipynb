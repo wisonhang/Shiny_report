{
 "cells": [
  {
   "cell_type": "code",
   "execution_count": 1,
   "metadata": {},
   "outputs": [
    {
     "name": "stderr",
     "output_type": "stream",
     "text": [
      "/usr/lib/python3.5/importlib/_bootstrap.py:222: RuntimeWarning: numpy.dtype size changed, may indicate binary incompatibility. Expected 96, got 88\n",
      "  return f(*args, **kwds)\n",
      "/usr/lib/python3.5/importlib/_bootstrap.py:222: RuntimeWarning: numpy.dtype size changed, may indicate binary incompatibility. Expected 96, got 88\n",
      "  return f(*args, **kwds)\n"
     ]
    }
   ],
   "source": [
    "import test\n",
    "import requests as rq\n",
    "import re\n",
    "import pandas as pd\n",
    "\n",
    "headers='''GET /list_detail_rate.htm?itemId=547501969350&sellerId=2963804430&currentPage=3 HTTP/1.1\n",
    "Host: rate.tmall.com\n",
    "User-Agent: Mozilla/5.0 (Windows NT 6.3; Win64; x64; rv:63.0) Gecko/20100101 Firefox/63.0\n",
    "Accept: text/html,application/xhtml+xml,application/xml;q=0.9,*/*;q=0.8\n",
    "Accept-Language: zh-CN,zh;q=0.8,zh-TW;q=0.7,zh-HK;q=0.5,en-US;q=0.3,en;q=0.2\n",
    "Accept-Encoding: gzip, deflate, br\n",
    "Referer: http://47.98.102.15:8000/user/dwhang/notebooks/project/Advancy/CommentCloud/Untitled.ipynb\n",
    "Connection: keep-alive\n",
    "Cookie: isg=BMTEvbdqRLJhXvb4ucBMiOWllkJ2deghlAxfyN5lAA9sCWTTBu8r12PrTWF0CiCf; cna=DxZfEOFgfSACAWVQIak4S5J3; um=A502B1276E6D5FEFA4FA8106E94F56A71182424073D91A416F8F7DD6D52553BBBB53A858D2A6095ACD43AD3E795C914CE2613C9E5B7EAEDA7234B2176B533EA1; enc=%2BRieSqjS7Kse1Dg0FtXGyfKCidraf7EyLOOgLH0NnkkP%2BgS25knRvEKJxrluxZ%2FCmlVHD4ei5jKJB21GEPnEdA%3D%3D; lid=rhmily0627; otherx=e%3D1%26p%3D*%26s%3D0%26c%3D0%26f%3D0%26g%3D0%26t%3D0; x=__ll%3D-1%26_ato%3D0; hng=CN%7Czh-CN%7CCNY%7C156; _m_h5_tk=e4d5466d15fcc6d6ea9cc27bf72619cb_1543853986491; _m_h5_tk_enc=51049a4890510b49f00095f9c3da42a8; t=d7a679ff82efaa327a852200cdfaa45e; uc3=vt3=F8dByR1Vf9HTjZkhcS4%3D&id2=Vvz0JWcxsM4C&nk2=EU90aKraUlbnig%3D%3D&lg2=VT5L2FSpMGV7TQ%3D%3D; tracknick=rhmily0627; lgc=rhmily0627; _tb_token_=ee3be0e13a6e7; cookie2=19612e8b60bc591f8fd3e14839ac57e4; x5sec=7b22726174656d616e616765723b32223a226166376231613130636532313666373635373636633632613534313764623661434c66336c4f4146454f4b7435714b327339446a44673d3d227d\n",
    "Upgrade-Insecure-Requests: 1\n",
    "Cache-Control: max-age=0'''\n",
    "\n",
    "# 去除参数头尾的空格并按换行符分割\n",
    "headers = headers.strip().split('\\n')\n",
    " \n",
    "# 使用字典生成式将参数切片重组，并去掉空格，处理带协议头中的://\n",
    "headers = {x.split(':')[0].strip(): (\"\".join(x.split(':')[1:])).strip().replace('//', \"://\") for x in headers}\n",
    "cookies=headers['Cookie']\n",
    "cookies={x.split('=')[0].strip():(\"\".join(x.split('=')[1:])).strip() for x in cookies.split(';')}"
   ]
  },
  {
   "cell_type": "code",
   "execution_count": 27,
   "metadata": {},
   "outputs": [
    {
     "name": "stdout",
     "output_type": "stream",
     "text": [
      "http://rate.tmall.com/list_detail_rate.htm?itemId=565378640342&sellerId=3299243911&currentPage=1\n",
      "http://rate.tmall.com/list_detail_rate.htm?itemId=565378640342&sellerId=3299243911&currentPage=2\n",
      "[2]\n"
     ]
    }
   ],
   "source": [
    "url='https://dsr-rate.tmall.com/list_dsr_info.htm?itemId=565378640342&spuId=937972825&sellerId=3299243911&groupId&_ksTS=1543937356064_228&callback=jsonp229'\n",
    "sellid=re.findall('sellerId=\\d*',url)[0].replace('sellerId=','')\n",
    "itemid=re.findall('itemId=\\d*',url)[0].replace('itemId=','')\n",
    "file='supplymen'+itemid+'.csv'\n",
    "a=test.get_TM_item_pinglun(itemid,sellid,2,file)"
   ]
  },
  {
   "cell_type": "code",
   "execution_count": 26,
   "metadata": {},
   "outputs": [
    {
     "name": "stdout",
     "output_type": "stream",
     "text": [
      "http://rate.tmall.com/list_detail_rate.htm?itemId=565489877473&sellerId=3299243911&currentPage=1\n",
      "http://rate.tmall.com/list_detail_rate.htm?itemId=565489877473&sellerId=3299243911&currentPage=2\n",
      "[2]\n"
     ]
    }
   ],
   "source": [
    "url='https://dsr-rate.tmall.com/list_dsr_info.htm?itemId=565489877473&spuId=937781132&sellerId=3299243911&groupId&_ksTS=1543937423483_224&callback=jsonp225'\n",
    "sellid=re.findall('sellerId=\\d*',url)[0].replace('sellerId=','')\n",
    "itemid=re.findall('itemId=\\d*',url)[0].replace('itemId=','')\n",
    "file='supplymen'+itemid+'.csv'\n",
    "a=test.get_TM_item_pinglun(itemid,sellid,2,file)"
   ]
  },
  {
   "cell_type": "code",
   "execution_count": 28,
   "metadata": {},
   "outputs": [
    {
     "name": "stdout",
     "output_type": "stream",
     "text": [
      "http://rate.tmall.com/list_detail_rate.htm?itemId=546837721238&sellerId=2154816055&currentPage=1\n",
      "http://rate.tmall.com/list_detail_rate.htm?itemId=546837721238&sellerId=2154816055&currentPage=2\n",
      "[2]\n"
     ]
    }
   ],
   "source": [
    "url='https://dsr-rate.tmall.com/list_dsr_info.htm?itemId=546837721238&spuId=813046824&sellerId=2154816055&groupId&_ksTS=1543942128880_203&callback=jsonp204'\n",
    "sellid=re.findall('sellerId=\\d*',url)[0].replace('sellerId=','')\n",
    "itemid=re.findall('itemId=\\d*',url)[0].replace('itemId=','')\n",
    "file='bossmen'+itemid+'.csv'\n",
    "a=test.get_TM_item_pinglun(itemid,sellid,2,file)"
   ]
  },
  {
   "cell_type": "code",
   "execution_count": 24,
   "metadata": {},
   "outputs": [
    {
     "name": "stdout",
     "output_type": "stream",
     "text": [
      "http://rate.tmall.com/list_detail_rate.htm?itemId=546989649589&sellerId=2154816055&currentPage=1\n",
      "http://rate.tmall.com/list_detail_rate.htm?itemId=546989649589&sellerId=2154816055&currentPage=2\n",
      "http://rate.tmall.com/list_detail_rate.htm?itemId=546989649589&sellerId=2154816055&currentPage=3\n",
      "[2, 3]\n"
     ]
    }
   ],
   "source": [
    "url='https://dsr-rate.tmall.com/list_dsr_info.htm?itemId=546989649589&spuId=829119190&sellerId=2154816055&groupId&_ksTS=1543937168463_204&callback=jsonp205'\n",
    "sellid=re.findall('sellerId=\\d*',url)[0].replace('sellerId=','')\n",
    "itemid=re.findall('itemId=\\d*',url)[0].replace('itemId=','')\n",
    "file='bossmen'+itemid+'.csv'\n",
    "a=test.get_TM_item_pinglun(itemid,sellid,3,file)"
   ]
  },
  {
   "cell_type": "code",
   "execution_count": 23,
   "metadata": {},
   "outputs": [
    {
     "name": "stdout",
     "output_type": "stream",
     "text": [
      "http://rate.tmall.com/list_detail_rate.htm?itemId=558956737405&sellerId=2154816055&currentPage=1\n",
      "http://rate.tmall.com/list_detail_rate.htm?itemId=558956737405&sellerId=2154816055&currentPage=2\n",
      "http://rate.tmall.com/list_detail_rate.htm?itemId=558956737405&sellerId=2154816055&currentPage=3\n",
      "[3]\n"
     ]
    }
   ],
   "source": [
    "url='https://dsr-rate.tmall.com/list_dsr_info.htm?itemId=558956737405&spuId=880643004&sellerId=2154816055&groupId&_ksTS=1543937087915_189&callback=jsonp190'\n",
    "sellid=re.findall('sellerId=\\d*',url)[0].replace('sellerId=','')\n",
    "itemid=re.findall('itemId=\\d*',url)[0].replace('itemId=','')\n",
    "file='bossmen'+itemid+'.csv'\n",
    "a=test.get_TM_item_pinglun(itemid,sellid,3,file)"
   ]
  },
  {
   "cell_type": "code",
   "execution_count": 22,
   "metadata": {},
   "outputs": [
    {
     "name": "stdout",
     "output_type": "stream",
     "text": [
      "http://rate.tmall.com/list_detail_rate.htm?itemId=549996315235&sellerId=2963804430&currentPage=1\n",
      "http://rate.tmall.com/list_detail_rate.htm?itemId=549996315235&sellerId=2963804430&currentPage=2\n",
      "http://rate.tmall.com/list_detail_rate.htm?itemId=549996315235&sellerId=2963804430&currentPage=3\n",
      "[3]\n"
     ]
    }
   ],
   "source": [
    "url='https://dsr-rate.tmall.com/list_dsr_info.htm?itemId=549996315235&spuId=847623199&sellerId=2963804430&groupId&_ksTS=1543936170058_208&callback=jsonp209'\n",
    "sellid=re.findall('sellerId=\\d*',url)[0].replace('sellerId=','')\n",
    "itemid=re.findall('itemId=\\d*',url)[0].replace('itemId=','')\n",
    "file='lampo'+itemid+'.csv'\n",
    "a=test.get_TM_item_pinglun(itemid,sellid,3,file)"
   ]
  },
  {
   "cell_type": "code",
   "execution_count": 21,
   "metadata": {},
   "outputs": [
    {
     "name": "stdout",
     "output_type": "stream",
     "text": [
      "http://rate.tmall.com/list_detail_rate.htm?itemId=567845689758&sellerId=2183380830&currentPage=1\n",
      "http://rate.tmall.com/list_detail_rate.htm?itemId=567845689758&sellerId=2183380830&currentPage=2\n",
      "http://rate.tmall.com/list_detail_rate.htm?itemId=567845689758&sellerId=2183380830&currentPage=3\n",
      "http://rate.tmall.com/list_detail_rate.htm?itemId=567845689758&sellerId=2183380830&currentPage=4\n",
      "[2, 3, 4]\n"
     ]
    }
   ],
   "source": [
    "url='https://dsr-rate.tmall.com/list_dsr_info.htm?itemId=567845689758&spuId=958401177&sellerId=2183380830&groupId&_ksTS=1543935709617_203&callback=jsonp204'\n",
    "sellid=re.findall('sellerId=\\d*',url)[0].replace('sellerId=','')\n",
    "itemid=re.findall('itemId=\\d*',url)[0].replace('itemId=','')\n",
    "file='MDmen'+itemid+'.csv'\n",
    "a=test.get_TM_item_pinglun(itemid,sellid,4,file)"
   ]
  },
  {
   "cell_type": "code",
   "execution_count": 19,
   "metadata": {},
   "outputs": [
    {
     "name": "stdout",
     "output_type": "stream",
     "text": [
      "http://rate.tmall.com/list_detail_rate.htm?itemId=571753728812&sellerId=2183380830&currentPage=1\n",
      "http://rate.tmall.com/list_detail_rate.htm?itemId=571753728812&sellerId=2183380830&currentPage=2\n",
      "http://rate.tmall.com/list_detail_rate.htm?itemId=571753728812&sellerId=2183380830&currentPage=3\n",
      "[3]\n"
     ]
    }
   ],
   "source": [
    "url='https://dsr-rate.tmall.com/list_dsr_info.htm?itemId=571753728812&spuId=991408751&sellerId=2183380830&groupId&_ksTS=1543934031496_203&callback=jsonp204'\n",
    "sellid=re.findall('sellerId=\\d*',url)[0].replace('sellerId=','')\n",
    "itemid=re.findall('itemId=\\d*',url)[0].replace('itemId=','')\n",
    "file='MDmen'+itemid+'.csv'\n",
    "a=test.get_TM_item_pinglun(itemid,sellid,3,file)"
   ]
  },
  {
   "cell_type": "code",
   "execution_count": 15,
   "metadata": {},
   "outputs": [
    {
     "name": "stdout",
     "output_type": "stream",
     "text": [
      "http://rate.tmall.com/list_detail_rate.htm?itemId=568502424733&sellerId=2183380830&currentPage=1\n",
      "http://rate.tmall.com/list_detail_rate.htm?itemId=568502424733&sellerId=2183380830&currentPage=2\n",
      "http://rate.tmall.com/list_detail_rate.htm?itemId=568502424733&sellerId=2183380830&currentPage=3\n",
      "http://rate.tmall.com/list_detail_rate.htm?itemId=568502424733&sellerId=2183380830&currentPage=4\n",
      "http://rate.tmall.com/list_detail_rate.htm?itemId=568502424733&sellerId=2183380830&currentPage=5\n",
      "http://rate.tmall.com/list_detail_rate.htm?itemId=568502424733&sellerId=2183380830&currentPage=6\n",
      "http://rate.tmall.com/list_detail_rate.htm?itemId=568502424733&sellerId=2183380830&currentPage=7\n",
      "http://rate.tmall.com/list_detail_rate.htm?itemId=568502424733&sellerId=2183380830&currentPage=8\n",
      "http://rate.tmall.com/list_detail_rate.htm?itemId=568502424733&sellerId=2183380830&currentPage=9\n",
      "http://rate.tmall.com/list_detail_rate.htm?itemId=568502424733&sellerId=2183380830&currentPage=10\n",
      "[5, 6, 7, 8, 9, 10]\n"
     ]
    }
   ],
   "source": [
    "url='https://dsr-rate.tmall.com/list_dsr_info.htm?itemId=568502424733&spuId=963542951&sellerId=2183380830&groupId&_ksTS=1543934139733_198&callback=jsonp199'\n",
    "sellid=re.findall('sellerId=\\d*',url)[0].replace('sellerId=','')\n",
    "itemid=re.findall('itemId=\\d*',url)[0].replace('itemId=','')\n",
    "file='MDwomen'+itemid+'.csv'\n",
    "a=test.get_TM_item_pinglun(itemid,sellid,10,file)"
   ]
  },
  {
   "cell_type": "code",
   "execution_count": 16,
   "metadata": {},
   "outputs": [
    {
     "name": "stdout",
     "output_type": "stream",
     "text": [
      "http://rate.tmall.com/list_detail_rate.htm?itemId=568627837202&sellerId=2183380830&currentPage=1\n",
      "http://rate.tmall.com/list_detail_rate.htm?itemId=568627837202&sellerId=2183380830&currentPage=2\n",
      "http://rate.tmall.com/list_detail_rate.htm?itemId=568627837202&sellerId=2183380830&currentPage=3\n",
      "http://rate.tmall.com/list_detail_rate.htm?itemId=568627837202&sellerId=2183380830&currentPage=4\n",
      "http://rate.tmall.com/list_detail_rate.htm?itemId=568627837202&sellerId=2183380830&currentPage=5\n",
      "http://rate.tmall.com/list_detail_rate.htm?itemId=568627837202&sellerId=2183380830&currentPage=6\n",
      "http://rate.tmall.com/list_detail_rate.htm?itemId=568627837202&sellerId=2183380830&currentPage=7\n",
      "http://rate.tmall.com/list_detail_rate.htm?itemId=568627837202&sellerId=2183380830&currentPage=8\n",
      "[5, 6, 7, 8]\n"
     ]
    }
   ],
   "source": [
    "url='https://dsr-rate.tmall.com/list_dsr_info.htm?itemId=568627837202&spuId=962833956&sellerId=2183380830&groupId&_ksTS=1543934911619_202&callback=jsonp203'\n",
    "sellid=re.findall('sellerId=\\d*',url)[0].replace('sellerId=','')\n",
    "itemid=re.findall('itemId=\\d*',url)[0].replace('itemId=','')\n",
    "file='MDwomen'+itemid+'.csv'\n",
    "a=test.get_TM_item_pinglun(itemid,sellid,8,file)"
   ]
  },
  {
   "cell_type": "code",
   "execution_count": null,
   "metadata": {},
   "outputs": [],
   "source": []
  },
  {
   "cell_type": "code",
   "execution_count": 3,
   "metadata": {},
   "outputs": [],
   "source": [
    "rawurl='http://rate.tmall.com/list_detail_rate.htm?itemId=%s&sellerId=%s&currentPage=%s'\n",
    "url=rawurl%(itemid,sellid,'1')"
   ]
  },
  {
   "cell_type": "code",
   "execution_count": 6,
   "metadata": {},
   "outputs": [],
   "source": [
    "url='http://rate.tmall.com/list_detail_rate.htm?itemId=547501969350&sellerId=2963804430&currentPage=3'"
   ]
  },
  {
   "cell_type": "code",
   "execution_count": 19,
   "metadata": {},
   "outputs": [],
   "source": [
    "    myweb=rq.get(url,headers=headers,cookies=cookies)\n",
    "    myjson=re.findall('\"rateList\".*',myweb.text)\n",
    "    txt=re.findall('\"rateList\":(.*)',myweb.text)[0]\n",
    "    reptxt=re.findall(',\"searchinfo\":\"\",\"from\":\"search\",\"paginator\":{\"lastPage\":\\d*,\"page\":\\d*,\"items\":\\d*},\"tags\":\\[\\]}}\\)',txt)[0]\n",
    "    tt=txt.replace(reptxt,'').replace('[{','').replace('}]','').split('},{')\n",
    "    Data=[]\n",
    "    for i,a in enumerate(tt):\n",
    "        temp='{\"A\":{'+a+'}}'\n",
    "        temp=pd.read_json(temp).T\n",
    "        if i==0:\n",
    "            Data=temp\n",
    "        else:\n",
    "            Data=Data.append(temp,ignore_index=True)"
   ]
  },
  {
   "cell_type": "code",
   "execution_count": 16,
   "metadata": {},
   "outputs": [
    {
     "data": {
      "text/plain": [
       "'\\r\\n\\r\\n{\"rgv587_flag\":\"sm\",\"url\":\"https://login.taobao.com/member/login.jhtml?style=mini&from=sm&full_redirect=false&redirectURL=https%3a%2f%2frate.tmall.com:443/list_detail_rate.htm/_____tmd_____/punish%3fx5secdata=5e0c8e1365474455070961b803bd560607b52cabf5960afff39b64ce58073f7844a8dd94c89edef01763e7bda2153e72fcab45d62d62d1d0fb9af411e98157f55151e037d30b894fa1b9f0617640df869886ed111be2b458db54a7948026a6fdab1f1f8894b2e5ef765c79e41e12f05166aa46b95391627fde48e339dbf60bb5d81431f58eb1b1fab5d2f32b75a39d6b71aa9751255c8b47f7d9794f55b89f16269bd13ce0189f80737ee2b28b9d6413014383d4a55a5c4e24b71c2123f723583886853cc460eb5a96489a3c572a8edb0aa108b6b72dbeca910999ec587efd9a0e8df521afdf7d4e82b309e8d247ce8723688df334c718fb0908b529545818b2f997c321f6d2cf4cdb81279f6c6cf9839642adb9ad3d4d31d0964db133edb28d3d00bc832db084b4859e93d48b9e0c9d41c38f3421d53df4d594e5903daae19a20bc2079d80bb9f79e6f69c7c441da1c249d2ba46c8463af30d9322b11ef4c8cc13f73686d49b17c73f3f11d91d06c6c899e324ed7d6f1bd459902add14653c28583c5449861dc63cceb31379c8508e95eb3007fb82df755d5c7d18aed1f64631bc889c90de37ae373f8e14c4035b4c346d7c07b418bd61930fcc7f43085f215c0f04b1256857f88e8f06920006aecfafb8847f431ccd1578d4a4a3df59438f784619e3a2ac26805a71318f8aeaea28c%26x5step=100\"}'"
      ]
     },
     "execution_count": 16,
     "metadata": {},
     "output_type": "execute_result"
    }
   ],
   "source": [
    "myweb.text"
   ]
  },
  {
   "cell_type": "code",
   "execution_count": 10,
   "metadata": {},
   "outputs": [],
   "source": [
    "headers='''GET /list_detail_rate.htm?itemId=547501969350&sellerId=2963804430&currentPage=2 HTTP/1.1\n",
    "Host: rate.tmall.com\n",
    "User-Agent: Mozilla/5.0 (Windows NT 6.3; Win64; x64; rv:63.0) Gecko/20100101 Firefox/63.0\n",
    "Accept: text/html,application/xhtml+xml,application/xml;q=0.9,*/*;q=0.8\n",
    "Accept-Language: zh-CN,zh;q=0.8,zh-TW;q=0.7,zh-HK;q=0.5,en-US;q=0.3,en;q=0.2\n",
    "Accept-Encoding: gzip, deflate, br\n",
    "Connection: keep-alive\n",
    "Cookie: isg=BKenhFtzt70qyTUxXtH_EarENduxhHto6w3cwXkV6jdpaMUqgf-pXo4pjqjTm1OG; cna=DxZfEOFgfSACAWVQIak4S5J3; um=A502B1276E6D5FEFA4FA8106E94F56A71182424073D91A416F8F7DD6D52553BBBB53A858D2A6095ACD43AD3E795C914CE2613C9E5B7EAEDA7234B2176B533EA1; enc=%2BRieSqjS7Kse1Dg0FtXGyfKCidraf7EyLOOgLH0NnkkP%2BgS25knRvEKJxrluxZ%2FCmlVHD4ei5jKJB21GEPnEdA%3D%3D; lid=rhmily0627; otherx=e%3D1%26p%3D*%26s%3D0%26c%3D0%26f%3D0%26g%3D0%26t%3D0; x=__ll%3D-1%26_ato%3D0; hng=CN%7Czh-CN%7CCNY%7C156; _m_h5_tk=12de964b21f2cb841ecc8e911773371d_1543771016507; _m_h5_tk_enc=5935de3e307f260bb5363290d58d7fd7; t=d7a679ff82efaa327a852200cdfaa45e; uc3=vt3=F8dByR1Vf9HTjZkhcS4%3D&id2=Vvz0JWcxsM4C&nk2=EU90aKraUlbnig%3D%3D&lg2=VT5L2FSpMGV7TQ%3D%3D; tracknick=rhmily0627; lgc=rhmily0627; _tb_token_=ee3be0e13a6e7; cookie2=19612e8b60bc591f8fd3e14839ac57e4\n",
    "Upgrade-Insecure-Requests: 1\n",
    "Cache-Control: max-age=0'''\n",
    "\n",
    "# 去除参数头尾的空格并按换行符分割\n",
    "headers = headers.strip().split('\\n')\n",
    " \n",
    "# 使用字典生成式将参数切片重组，并去掉空格，处理带协议头中的://\n",
    "headers = {x.split(':')[0].strip(): (\"\".join(x.split(':')[1:])).strip().replace('//', \"://\") for x in headers}\n",
    "cookies=headers['Cookie']\n",
    "cookies={x.split('=')[0].strip():(\"\".join(x.split('=')[1:])).strip() for x in cookies.split(';')}"
   ]
  },
  {
   "cell_type": "code",
   "execution_count": 58,
   "metadata": {},
   "outputs": [],
   "source": [
    "import requests as rq\n",
    "import pandas as pd\n",
    "import json\n",
    "import re\n",
    "from os import path\n",
    "from bs4 import BeautifulSoup\n",
    "import sys\n",
    "import time\n",
    "def get_JD_pinglun(productId,page):\n",
    "    s=rq.session()\n",
    "    url = 'https://club.jd.com/comment/productPageComments.action'\n",
    "    data = { 'productId':'1994763191',\n",
    "            'score':0,\n",
    "            'sortType':5,\n",
    "            'pageSize':100,\n",
    "            'isShadowSku':0,\n",
    "            'page':0\n",
    "    }\n",
    "    data['productId']=productId\n",
    "    data['page']=page\n",
    "    r = s.get(url, params = data)\n",
    "    txt=r.json()['comments']\n",
    "    Data=list()\n",
    "    for a in txt:\n",
    "        Data.append(a)\n",
    "    return(Data)\n",
    "    \n",
    "def get_JD_item_pinglun(url,pages,file='word1.txt'):\n",
    "    itemId=re.findall('\\d*[0-9]',url)[0]\n",
    "    Data=list()\n",
    "    unpage=list()\n",
    "    for num in range(0,pages):\n",
    "        time.sleep(1)\n",
    "        try:\n",
    "            temp=get_JD_pinglun(itemId,num)\n",
    "            Data=Data+temp\n",
    "        except:\n",
    "            unpage.append(num)\n",
    "    Data=pd.DataFrame(Data)\n",
    "    Data.to_csv(file)\n",
    "    print(unpage)\n",
    "    return(Data)"
   ]
  },
  {
   "cell_type": "code",
   "execution_count": 39,
   "metadata": {},
   "outputs": [],
   "source": [
    "headers={\n",
    "'Host': 'search.jd.com',\n",
    "'User-Agent': 'Mozilla/5.0 (Windows NT 10.0; WOW64; rv:61.0) Gecko/20100101 Firefox/61.0',\n",
    "'Accept': '*/*',\n",
    "'Accept-Language': 'zh-CN,zh;q=0.8,zh-TW;q=0.7,zh-HK;q=0.5,en-US;q=0.3,en;q=0.2',\n",
    "'Accept-Encoding': 'gzip, deflate, br',\n",
    "'X-Requested-With': 'XMLHttpRequest',\n",
    "'Referer':'https://search.jd.com'\n",
    "}\n",
    "cookies={\n",
    "    \"'__jda\":\"122270672.15093419446951291639477.1509341944.1531712897.1531817540.12\",\n",
    "    \" __jdu\":\"15093419446951291639477\",\n",
    "    \" qrsc\":\"3\",\n",
    "    \" unpl\":\"V2_ZzNtbRFWQkIgDRZQf00OAmIGEg9LVhQWcgBEUHhOVVYzARNaclRCFXwUR1JnGVoUZwQZWUZcRxJFCHZXchBYAWcCGllyBBNNIEwHDCRSBUE3XHxcFVUWF3RaTwEoSVoAYwtBDkZUFBYhW0IAKElVVTUFR21yVEMldQl2VH8YVAdiAxpYR1BLEXULTlR8G1QAYQUibUVncyV3DkJWcx1sBFcCIh8WC0QccwhFUzYZWARvARddSlJGEn0MRldzGVsHbwYUW3JWcxY%3d\",\n",
    "    \" __jdv\":\"122270672|baidu-pinzhuan|t_288551095_baidupinzhuan|cpc|0f3d30c8dba7459bb52f2eb5eba8ac7d_0_b00fd4a55ec6441c80f269352f8be306|1531817540027\",\n",
    "    \" xtest\":\"9718.cf6b6759\",\n",
    "    \" ipLoc-djd\":\"1-72-2799-0\",\n",
    "    \" ipLocation\":\"%u5317%u4EAC\",\n",
    "    \" areaId\":\"1\",\n",
    "    \" __jdc\":\"122270672\",\n",
    "    \" PCSYCityID\":\"2\",\" rkv\":\"V0400\",\n",
    "    \" user-key\":\"07e1e467-4d89-4d29-ae63-b6c91b164f91\",\n",
    "    \" cn\":\"0\",\" __jdb\":\"122270672.7.15093419446951291639477|12.1531817540\",\n",
    "    \" shshshsID\":\"3cff373ea8034471751406df798c638d_5_1531819138097\",\n",
    "    \" shshshfpb\":\"11405c58a1e7f4b8bae47ec7a626990564bdb4174f567eb1a5b0282621\",\n",
    "    \" shshshfp\":\"05955e594f5954e48d26c6503f10b92b\",\n",
    "    \" shshshfpa\":\"6c92dbba-e1f0-16b2-4b74-51cd6b1e130b-1531817553\",\n",
    "    \" 3AB9D23F7A4B3C9B\":\"NDLNIQA6ICOGMZTCTOVD7JFG2HLI3FLHNC6LTCXVLIL2LEMXCFX6MM4ODXK265ZVNGG6RAYS2K3T3LKDZC5TODC6QE\",\n",
    "    \" wlfstk_smdl\":\"7xkqdrblx7w14ryxa7r6so76azowaeeh\",\n",
    "    \" TrackID\":\"1jJQj3Oz7rHXil-O2_PKj40JhF-zNK_fURQhnlIVCpcqM8SQu5JOl65MavkHoMRrzu0bwL6FMjvyq1B8NdwN1jELff3tM-E4ECAQ3CUO1Hek\",\n",
    "    \" pinId\":\"dB9XT2dl9zLVD81_U3_hhA\",\" pin\":\"18801912310_p\",\n",
    "    \" unick\":\"jd188019tgl\",\n",
    "    \" thor\":\"5B23B6770A25D29E243259E20A4C467C542B79AC67664485C3A771410A3CD9DDA7A6DDBD5D9160AFB1393254EC4F4E3ED4822282D63D7E8AA4B2C1980E434698646376A4FAFB554F601045438CEAD12DF8A27EF56689E8FAA9BB2CA79EAF31154F7263E4F46A2B2A06E9ADAFBDA560B71E2B4298C334856BB59073094F89C3DB0182DAC9366E537ED56169E965703FA0\",\n",
    "    \" _tp\":\"vmuiXC9YgXXRKt6Mu0MArQ%3D%3D\",\" _pst\":\"18801912310_p\",\n",
    "    \" ceshi3.com\":\"000\"}"
   ]
  },
  {
   "cell_type": "code",
   "execution_count": 93,
   "metadata": {},
   "outputs": [],
   "source": [
    "def get_page_info(web):\n",
    "    price=[i.get_text(strip=True ) for i in web.select('.gl-i-wrap .p-price strong')]\n",
    "    comment=[i.get_text(strip=True ) for i in web.select('.gl-i-wrap .p-commit')]\n",
    "    shop=[i.get_text(strip=True ) for i in web.select('.gl-i-wrap .p-shop')]\n",
    "    products=[i.get_text(strip=True ) for i in web.select('.gl-i-wrap .p-name a em')]\n",
    "    links=[i['href'] for i in web.select('.gl-i-wrap .p-name a')]\n",
    "    notes=[i.get_text() for i in web.select('.gl-i-wrap .p-icons')]\n",
    "    data=pd.DataFrame({'price':price,'comment':comment,'products':products,'shop':shop,'link':links,'notes':notes},\n",
    "                  columns=['products','shop','price','notes','comment','link'])\n",
    "    return(data)\n",
    "\n",
    "def whole_page(url):\n",
    "    \n",
    "    keyword=re.findall('keyword=(\\w*)',url)[0]\n",
    "    page=int(re.findall('page=(\\w*)',url)[0])+1\n",
    "    \n",
    "    web=rq.get(url)\n",
    "    web.encoding='utf-8'\n",
    "    web=BeautifulSoup(web.text,'lxml')\n",
    "    data=get_page_info(web)\n",
    "    \n",
    "    ###next half page \n",
    "    skus=[i['data-sku'] for i in web.select('.gl-item')]\n",
    "    skus=','.join(skus)\n",
    "    base_url='https://search.jd.com/s_new.php?keyword=%s&enc=utf-8&qrst=1&rt=1&stop=1&vt=2&stock=1&page=%s&scrolling=y&log_id=1531822849.89089&tpl=1_M&show_items=%s'\n",
    "    web=rq.get(base_url%(keyword,page,skus),headers=headers,cookies=cookies)\n",
    "    web.encoding='utf-8'\n",
    "    web=BeautifulSoup(web.text,'lxml')\n",
    "    data=data.append(get_page_info(web),ignore_index=True)\n",
    "    return(data)\n",
    "    \n",
    "    \n",
    "\n",
    "def JD_search_keyword(keyword='土豆',pages=10):\n",
    "    url='https://search.jd.com/Search?keyword=%s&enc=utf-8&qrst=1&rt=1&stop=1&vt=2&stock=1&page=%s&scrolling=y'\n",
    "    Data=pd.DataFrame(columns=['products','shop','price','notes','comment','link'])\n",
    "    for page in range(1,pages,2):\n",
    "        time.sleep(5)\n",
    "        try:\n",
    "            data=whole_page(url%(keyword,page))\n",
    "        except Exception as e:\n",
    "            print(url%(keyword,page))\n",
    "            time.sleep(5)\n",
    "        else:\n",
    "            Data=Data.append(data,ignore_index=True)\n",
    "        \n",
    "    return(Data)\n",
    "    "
   ]
  },
  {
   "cell_type": "code",
   "execution_count": 48,
   "metadata": {},
   "outputs": [],
   "source": [
    "headers='''\n",
    "GET /Search?keyword=%E8%B1%86%E6%9C%AC%E8%B1%86&enc=utf-8&qrst=1&rt=1&stop=1&vt=2&stock=1&page=1&scrolling=y HTTP/1.1\n",
    "Host: search.jd.com\n",
    "User-Agent: Mozilla/5.0 (Windows NT 10.0; WOW64; rv:61.0) Gecko/20100101 Firefox/61.0\n",
    "Accept: text/html,application/xhtml+xml,application/xml;q=0.9,*/*;q=0.8\n",
    "Accept-Language: zh-CN,zh;q=0.8,zh-TW;q=0.7,zh-HK;q=0.5,en-US;q=0.3,en;q=0.2\n",
    "Accept-Encoding: gzip, deflate, br\n",
    "Referer: http://47.98.102.15:8000/user/dwhang/notebooks/project/Advancy/CommentCloud/Untitled.ipynb\n",
    "Cookie: __jda=122270672.15093419446951291639477.1509341944.1535074678.1535077519.24; __jdu=15093419446951291639477; qrsc=3; unpl=V2_ZzNtbUtUERclD0dUexkOAGJWEA9LVERGdw1PV3xMDwJiAkYIclRCFXwUR11nGlkUZgsZX0pcQBNFCHZXchBYAWcCGllyBBNNIEwHDCRSBUE3XHxcFVUWF3RaTwEoSVoAYwtBDkZUFBYhW0IAKElVVTUFR21yVEMldQl2VH8YVAdiAxpYR1BLEXULTlR8G1QAYQUibUVncyV2DURWfR5sBFcCIh8WC0cRcAxOGXsdXQ1lBhJVR1JEHXEIRVx7Hl4NYgUUbUNnQA%3d%3d; __jdv=122270672|baidu-pinzhuan|t_288551095_baidupinzhuan|cpc|0f3d30c8dba7459bb52f2eb5eba8ac7d_0_82c3a60111c44d3c826b34826db640ed|1535074678337; xtest=9718.cf6b6759; ipLocation=%u4e0a%u6d77; cn=3; TrackID=1LlIzd0_UTLm2bBOJyCMCV_-j4z8r9psX9yjwYPfe7qkmBfpaqAWaKWMgLWTq5Z_PBkGBb-AcnswKTvXeu7gJ_PcW-W45QEFUpCaylVoSDrw; pinId=dB9XT2dl9zLVD81_U3_hhA; pin=18801912310_p; unick=jd188019tgl; _tp=vmuiXC9YgXXRKt6Mu0MArQ%3D%3D; _pst=18801912310_p; shshshfpb=11405c58a1e7f4b8bae47ec7a626990564bdb4174f567eb1a5b0282621; shshshfp=89053fffb73bad3061916b1893356c98; shshshfpa=04252681-42bb-e26c-0082-811bef343d4e-1532339594; ipLoc-djd=2-78-51978-0.765247041; areaId=2; __jdc=122270672; PCSYCityID=2; rkv=V0400; user-key=bfbfc956-d44f-4c22-ad43-5e13cd45454d; thor=E537F721D8A214B9A6305ED995B37519640DB435170CF7A3EF0E78B90F8F9E967FA1F645CE18FA3CC8690332804F3EECF8E524C3AB76E945093949A185BE30089ADBA98F9CF459C2157BCADC00CFDC9B6803E409BB4BB5116BEAD865F1CCB73E7A408B3E2A0B286BBAD6FA9D925C107567C64282BC35D61C81FD5631DC4FD8472C3A7AE5C1E7A3DBD3C16F1E1ABC9E62; ceshi3.com=000; 3AB9D23F7A4B3C9B=NDLNIQA6ICOGMZTCTOVD7JFG2HLI3FLHNC6LTCXVLIL2LEMXCFX6MM4ODXK265ZVNGG6RAYS2K3T3LKDZC5TODC6QE; __jdb=122270672.3.15093419446951291639477|24.1535077519; shshshsID=9caf8e8ec91aa7725a083c01763f3209_3_1535077837404\n",
    "Connection: keep-alive\n",
    "Upgrade-Insecure-Requests: 1\n",
    "Cache-Control: max-age=0\n",
    "'''\n",
    "\n",
    "headers = headers.strip().split('\\n')\n",
    " \n",
    "# 使用字典生成式将参数切片重组，并去掉空格，处理带协议头中的://\n",
    "headers = {x.split(':')[0].strip(): (\"\".join(x.split(':')[1:])).strip().replace('//', \"://\") for x in headers}\n",
    "cookies=headers['Cookie']\n",
    "cookies={x.split('=')[0].strip():(\"\".join(x.split('=')[1:])).strip() for x in cookies.split(';')}"
   ]
  },
  {
   "cell_type": "code",
   "execution_count": null,
   "metadata": {},
   "outputs": [],
   "source": []
  }
 ],
 "metadata": {
  "kernelspec": {
   "display_name": "Python 3",
   "language": "python",
   "name": "python3"
  },
  "language_info": {
   "codemirror_mode": {
    "name": "ipython",
    "version": 3
   },
   "file_extension": ".py",
   "mimetype": "text/x-python",
   "name": "python",
   "nbconvert_exporter": "python",
   "pygments_lexer": "ipython3",
   "version": "3.5.2"
  }
 },
 "nbformat": 4,
 "nbformat_minor": 2
}
