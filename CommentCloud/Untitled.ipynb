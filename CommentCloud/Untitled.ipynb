{
 "cells": [
  {
   "cell_type": "code",
   "execution_count": 5,
   "metadata": {},
   "outputs": [],
   "source": [
    "import requests as rq\n",
    "import pandas as pd\n",
    "import json\n",
    "import re\n",
    "from os import path\n",
    "import numpy as np\n",
    "import os\n",
    "import time\n",
    "\n",
    "\n",
    "headers='''GET /list_detail_rate.htm?itemId=598433170230&sellerId=2104900096&currentPage=1 HTTP/1.1\n",
    "Host: rate.tmall.com\n",
    "User-Agent: Mozilla/5.0 (Windows NT 10.0; Win64; x64; rv:69.0) Gecko/20100101 Firefox/69.0\n",
    "Accept: text/html,application/xhtml+xml,application/xml;q=0.9,*/*;q=0.8\n",
    "Accept-Language: zh-CN,zh;q=0.8,zh-TW;q=0.7,zh-HK;q=0.5,en-US;q=0.3,en;q=0.2\n",
    "Accept-Encoding: gzip, deflate, br\n",
    "Referer: https://login.taobao.com/member/login.jhtml?redirectURL=https%3A%2F%2Frate.tmall.com%2Flist_detail_rate.htm%3FitemId%3D598433170230%26sellerId%3D2104900096%26currentPage%3D1\n",
    "Connection: keep-alive\n",
    "Cookie: lid=rhmily0627; cna=ScNBFEyUwlUCATr3YuJsVWeb; otherx=e%3D1%26p%3D*%26s%3D0%26c%3D0%26f%3D0%26g%3D0%26t%3D0; t=fa3e7b20123d61501879523e56e6855f; tracknick=rhmily0627; enc=kaaIvqhwwtLqejNGwVosAEU9NO5b0c2KbMv6qdZ82Gj3D%2FvONrdw5kW3Y6nWV2jY1LcenRNzeJWEpP6zhAbocQ%3D%3D; _tb_token_=37537b8bf660; cookie2=1de07c36f95afec7954b97e837bd0d0d; l=cBj3QfdHqBRzCODiBOCgNZwfuI_OSIOYYuWjlt_wi_5g-6T6gK7OksgFCF96VsWdOVLB4IqguYp9-etkweSNRTehl6ph.; isg=BBMTRsKHSrvumAbvCe7TU6hcoZc31sma3_SKvcUwbzJpRDPmTZg32nGVenSPf_-C; dnk=rhmily0627; uc1=cookie14=UoTaECEoqIo1Rg%3D%3D&cookie16=Vq8l%2BKCLySLZMFWHxqs8fwqnEw%3D%3D&existShop=false&cookie21=WqG3DMC9Fbxq&tag=8&pas=0&cookie15=W5iHLLyFOGW7aA%3D%3D&lng=zh_CN; uc3=lg2=VFC%2FuZ9ayeYq2g%3D%3D&nk2=EU90aKraUlbnig%3D%3D&vt3=F8dByuKxotSZugMUwXg%3D&id2=Vvz0JWcxsM4C; _l_g_=Ug%3D%3D; uc4=nk4=0%40E8uUrbJkNLcDNX5C39%2BeN6itVENg&id4=0%40VHrCOSzzhgxrPIflQvXHktB8g1Y%3D; unb=527798284; lgc=rhmily0627; cookie1=WvENINa6e8lWrWpsWjcIZEsRQFnbOa3ih5j2LJvPr1c%3D; login=true; cookie17=Vvz0JWcxsM4C; _nk_=rhmily0627; sg=74a; csg=ece0c074\n",
    "Upgrade-Insecure-Requests: 1\n",
    "Cache-Control: max-age=0'''\n",
    "\n",
    "# 去除参数头尾的空格并按换行符分割\n",
    "headers = headers.strip().split('\\n')\n",
    " \n",
    "# 使用字典生成式将参数切片重组，并去掉空格，处理带协议头中的://\n",
    "headers = {x.split(':')[0].strip(): (\"\".join(x.split(':')[1:])).strip().replace('//', \"://\") for x in headers}\n",
    "cookies=headers['Cookie']\n",
    "cookies={x.split('=')[0].strip():(\"\".join(x.split('=')[1:])).strip() for x in cookies.split(';')}\n",
    "        \n",
    "def get_TM_pinglun(url):\n",
    "    #url='http://rate.tmall.com/list_detail_rate.htm?itemId= 41464129793&sellerId= 1652490016&currentPage= 1'\n",
    "    print(url)\n",
    "    myweb=rq.get(url,headers=headers,cookies=cookies)\n",
    "    myjson=re.findall('\"rateList\".*',myweb.text)\n",
    "    txt=re.findall('\"rateList\":(.*)',myweb.text)[0]\n",
    "    reptxt=re.findall(',\"searchinfo\":\"\",\"from\":\"search\",\"paginator\":{\"lastPage\":\\d*,\"page\":\\d*,\"items\":\\d*},\"tags\":\\[\\]}}\\)',txt)[0]\n",
    "    tt=txt.replace(reptxt,'').replace('[{','').replace('}]','').split('},{')\n",
    "    Data=[]\n",
    "    for i,a in enumerate(tt):\n",
    "        temp='{\"A\":{'+a+'}}'\n",
    "        temp=pd.read_json(temp).T\n",
    "        if i==0:\n",
    "            Data=temp\n",
    "        else:\n",
    "            Data=Data.append(temp,ignore_index=True)\n",
    "    return(Data)\n",
    "\n",
    "\n",
    "\n",
    "def get_TM_item_pinglun(itemId,sellerId,pages,file='word1.txt'):\n",
    "    #itemId=re.findall(re.compile(\"itemId=\\d*\"),url)[0].replace('itemId=','')\n",
    "    #sellerId=re.findall(re.compile(\"sellerId=\\d*\"),url)[0].replace('sellerId=','')\n",
    "    #itemId=re.findall(re.compile('id=\\d*'),url)[0].replace('id=','')\n",
    "    #sellerId=re.findall(re.compile('user_id=\\d*'),url)[0].replace('user_id=','')\n",
    "    rawurl='http://rate.tmall.com/list_detail_rate.htm?itemId=%s&sellerId=%s&currentPage=%s'\n",
    "    Data=[]\n",
    "    unpage=list()\n",
    "    for num in range(1,pages+1):\n",
    "        time.sleep(1)\n",
    "        url=rawurl%(itemId,sellerId,num)\n",
    "        try:\n",
    "            temp=get_TM_pinglun(url)\n",
    "            #print(url)\n",
    "            if len(Data)==0:\n",
    "                Data=temp\n",
    "            else:\n",
    "                Data=Data.append(temp,ignore_index=True)\n",
    "        except:\n",
    "            unpage.append(num)\n",
    "    #Data=Data[['rateContent','rateDate','goldUser','gmtCreateTime','tradeEndTime','useful']].drop_duplicates()\n",
    "    Data['rateContent']=Data['rateContent'].apply(lambda x: x.replace('&hellip',''))\n",
    "    os.chdir('/home/dwhang/project/Advancy/CommentCloud/Data')\n",
    "    Data.to_csv(file, index=False, header=True,encoding='utf-8')\n",
    "    print(unpage)\n",
    "    return\n",
    "\n",
    "def get_JD_pinglun(productId,page):\n",
    "    s=rq.session()\n",
    "    url = 'https://club.jd.com/comment/productPageComments.action'\n",
    "    data = { 'productId':'1994763191',\n",
    "            'score':0,\n",
    "            'sortType':5,\n",
    "            'pageSize':100,\n",
    "            'isShadowSku':0,\n",
    "            'page':0\n",
    "    }\n",
    "    data['productId']=productId\n",
    "    data['page']=page\n",
    "    r = s.get(url, params = data)\n",
    "    txt=r.json()['comments']\n",
    "    Data=list()\n",
    "    for a in txt:\n",
    "        Data.append(a)\n",
    "    return(Data)\n",
    "    \n",
    "def get_JD_item_pinglun(url,pages,file='word1.txt'):\n",
    "    itemId=re.findall('\\d*[0-9]',url)[0]\n",
    "    Data=list()\n",
    "    unpage=list()\n",
    "    for num in range(0,pages):\n",
    "        time.sleep(1)\n",
    "        try:\n",
    "            temp=get_JD_pinglun(itemId,num)\n",
    "            Data=Data+temp\n",
    "        except:\n",
    "            unpage.append(num)\n",
    "    Data=pd.DataFrame(Data)\n",
    "    os.chdir('/home/dwhang/project/Advancy/CommentCloud/Data')\n",
    "    Data.to_csv(file,header=True,encoding='utf-8')\n",
    "    print(unpage)\n",
    "    return"
   ]
  },
  {
   "cell_type": "code",
   "execution_count": 3,
   "metadata": {},
   "outputs": [],
   "source": [
    "itemId=598433170230\n",
    "sellerId=2104900096\n",
    "num=1\n",
    "rawurl='http://rate.tmall.com/list_detail_rate.htm?itemId=%s&sellerId=%s&currentPage=%s'\n",
    "url=rawurl%(itemId,sellerId,num)"
   ]
  },
  {
   "cell_type": "code",
   "execution_count": 4,
   "metadata": {},
   "outputs": [
    {
     "data": {
      "text/plain": [
       "'http://rate.tmall.com/list_detail_rate.htm?itemId=598433170230&sellerId=2104900096&currentPage=1'"
      ]
     },
     "execution_count": 4,
     "metadata": {},
     "output_type": "execute_result"
    }
   ],
   "source": [
    "url"
   ]
  },
  {
   "cell_type": "code",
   "execution_count": 6,
   "metadata": {},
   "outputs": [
    {
     "name": "stdout",
     "output_type": "stream",
     "text": [
      "http://rate.tmall.com/list_detail_rate.htm?itemId=598433170230&sellerId=2104900096&currentPage=1\n",
      "[]\n"
     ]
    }
   ],
   "source": [
    "pages=1\n",
    "get_TM_item_pinglun(itemId,sellerId,pages,file='word1.txt')"
   ]
  },
  {
   "cell_type": "code",
   "execution_count": 18,
   "metadata": {},
   "outputs": [],
   "source": [
    "import requests as rq\n",
    "from bs4 import BeautifulSoup"
   ]
  },
  {
   "cell_type": "code",
   "execution_count": 174,
   "metadata": {},
   "outputs": [],
   "source": [
    "s=rq.session()\n",
    "web=s.get('https://detail.tmall.com/item.htm?spm=a230r.1.14.21.7e2b2f22td08YK&id=565981815168&ns=1&abbucket=7')\n",
    "sellerId=re.search('sellerId:\".*?\"',web.text).group()\n",
    "itemId=re.search('itemId:\".*?\"',web.text).group()\n",
    "sellerId=re.search('\\d.*',sellerId).group().replace('\"','')\n",
    "itemId=re.search('\\d.*',itemId).group().replace('\"','')"
   ]
  },
  {
   "cell_type": "code",
   "execution_count": null,
   "metadata": {},
   "outputs": [],
   "source": []
  }
 ],
 "metadata": {
  "kernelspec": {
   "display_name": "Python 3",
   "language": "python",
   "name": "python3"
  },
  "language_info": {
   "codemirror_mode": {
    "name": "ipython",
    "version": 3
   },
   "file_extension": ".py",
   "mimetype": "text/x-python",
   "name": "python",
   "nbconvert_exporter": "python",
   "pygments_lexer": "ipython3",
   "version": "3.5.2"
  }
 },
 "nbformat": 4,
 "nbformat_minor": 2
}
